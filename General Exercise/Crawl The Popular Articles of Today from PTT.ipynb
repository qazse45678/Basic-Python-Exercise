{
 "cells": [
  {
   "cell_type": "code",
   "execution_count": 16,
   "id": "a9943508",
   "metadata": {},
   "outputs": [
    {
     "name": "stdout",
     "output_type": "stream",
     "text": [
      "['5/15 爆+[外絮] 記者：全聯盟沒人相信76人會給鬍子頂薪' '5/15 14+[花邊] Zaza慶祝勇士晉級，不會忘記回憶'\n",
      " '5/15 18+[情報] 第二輪Net Rating：G7 Suns和Celtics領先'\n",
      " '5/15 13+Re: [外絮] 記者：全聯盟沒人相信76人會給鬍子頂薪'\n",
      " '5/15 31+Re: [外絮] 記者：全聯盟沒人相信76人會給鬍子頂薪'\n",
      " '5/15 66+[花邊] Kerr 老婆 : 我不想再和我丈夫一起看球了'\n",
      " '5/15 26+[花邊] G6三分球排名：浪花兄弟佔前兩名且最少場' '5/15 37+[花邊] 勇士球迷幫Ja套上哭哭濾鏡'\n",
      " '5/15 24+[新聞] CYT飆44分20籃板做白工 安戴托昆波肯定'\n",
      " '5/15 61+[新聞] Brooks向勇士下戰帖 Curry：他說很多瘋話'\n",
      " '5/15 84+[情報] Pat Bev : 你仍舊應該在價碼上滿足哈登'\n",
      " '5/15 爆+[新聞] 詹皇將成歷史得分王\\u3000湖人要辦盛大儀式！'\n",
      " '5/15 36+Re: [情報] 字母哥季後賽單場40/20，自2001 final Sh']\n"
     ]
    }
   ],
   "source": [
    "import requests\n",
    "from bs4 import BeautifulSoup\n",
    "import time\n",
    "import numpy as np\n",
    "\n",
    "today = time.strftime('%m/%d').lstrip('0')\n",
    "\n",
    "def pttNBA(url):\n",
    "    resp = requests.get(url)\n",
    "    if resp.status_code != 200:\n",
    "        print('URL 發生錯誤')\n",
    "        return\n",
    "    \n",
    "    soup = BeautifulSoup(resp.text, 'html5lib')\n",
    "    \n",
    "    #取得上下頁\n",
    "    paging = soup.find_all('a', {'class': 'btn', 'class': 'wide'})[1]['href']\n",
    "    \n",
    "    #取得文章\n",
    "    articles = []\n",
    "    rents = soup.find_all('div', 'r-ent')\n",
    "    \n",
    "    for rent in rents:\n",
    "        title = rent.find('div', 'title').text.strip()\n",
    "        count = rent.find('div', 'nrec').text.strip()\n",
    "        date = rent.find('div', 'date').text.strip()\n",
    "        article = '%s %s+%s' % (date, count, title)\n",
    "        \n",
    "        try:\n",
    "            if date == today and int(count) > 10:\n",
    "                articles.append(article)\n",
    "        except:\n",
    "            if date == today and count == '爆':\n",
    "                articles.append(article)\n",
    "                \n",
    "    if len(articles) != 0:\n",
    "        print(np.array(articles))\n",
    "    else:\n",
    "        return\n",
    "        \n",
    "pttNBA('https://www.ptt.cc/bbs/NBA/index.html')"
   ]
  }
 ],
 "metadata": {
  "kernelspec": {
   "display_name": "Python 3",
   "language": "python",
   "name": "python3"
  },
  "language_info": {
   "codemirror_mode": {
    "name": "ipython",
    "version": 3
   },
   "file_extension": ".py",
   "mimetype": "text/x-python",
   "name": "python",
   "nbconvert_exporter": "python",
   "pygments_lexer": "ipython3",
   "version": "3.8.8"
  }
 },
 "nbformat": 4,
 "nbformat_minor": 5
}
