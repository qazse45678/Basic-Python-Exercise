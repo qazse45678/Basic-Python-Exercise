{
 "cells": [
  {
   "cell_type": "code",
   "execution_count": 183,
   "id": "d49b5345",
   "metadata": {},
   "outputs": [
    {
     "ename": "SyntaxError",
     "evalue": "invalid syntax (<ipython-input-183-b64dc98ad318>, line 30)",
     "output_type": "error",
     "traceback": [
      "\u001b[0;36m  File \u001b[0;32m\"<ipython-input-183-b64dc98ad318>\"\u001b[0;36m, line \u001b[0;32m30\u001b[0m\n\u001b[0;31m    menu.update({item: [menu[item][0], count += 1]})\u001b[0m\n\u001b[0m                                             ^\u001b[0m\n\u001b[0;31mSyntaxError\u001b[0m\u001b[0;31m:\u001b[0m invalid syntax\n"
     ]
    }
   ],
   "source": [
    "food = input()\n",
    "menu = {}\n",
    "\n",
    "customer = []\n",
    "\n",
    "#變數應該有更簡短的寫法\n",
    "customer_1 = input().split(',')\n",
    "customer_2 = input().split(',')\n",
    "customer_3 = input().split(',')\n",
    "customer_4 = input().split(',')\n",
    "\n",
    "customer = customer_1 + customer_2 + customer_3 + customer_4\n",
    "\n",
    "totalPrice = 0\n",
    "count = 0\n",
    "\n",
    "for eachFood in food.split(','):\n",
    "    \n",
    "    #取出價格 & 食物名稱\n",
    "    foodName = eachFood.split('(')[0].strip()\n",
    "    number = []\n",
    "    for eachLetter in eachFood:\n",
    "        if eachLetter.isdigit():\n",
    "            number.append(eachLetter),           \n",
    "    number = ''.join(number)\n",
    "    menu[foodName] = [number, count]\n",
    "    \n",
    "for item in customer:\n",
    "    item = item.strip()\n",
    "    menu.update({item: [menu[item][0], count += 1]})\n",
    "    totalPrice += int(menu[item][0])\n",
    "\n",
    "#我從這開始就亂寫一通\n",
    "print('Okay, you ordered ', end = '')\n",
    "    \n",
    "for key, value in menu.items():\n",
    "    print(key + '*', end = '')\n",
    "    for i in value:\n",
    "        print(value[1], ',' , end = '')\n",
    "        break;\n",
    "\n",
    "print('$', totalPrice, 'in total.')\n",
    "\n",
    "#我沒有加上偵錯條件，所以如果輸入不在菜單上的食物，就會有 error\n",
    "#菜單一定要照 \"name ($price)\" 的格式寫，不然會報錯"
   ]
  },
  {
   "cell_type": "code",
   "execution_count": null,
   "id": "390a1c00",
   "metadata": {},
   "outputs": [],
   "source": [
    "b ($100), d ($60), r ($10), v ($40), t ($30), j($20)\n",
    "b, t\n",
    "d, r, v, t\n",
    "r, v, t\n",
    "d, j"
   ]
  }
 ],
 "metadata": {
  "kernelspec": {
   "display_name": "Python 3",
   "language": "python",
   "name": "python3"
  },
  "language_info": {
   "codemirror_mode": {
    "name": "ipython",
    "version": 3
   },
   "file_extension": ".py",
   "mimetype": "text/x-python",
   "name": "python",
   "nbconvert_exporter": "python",
   "pygments_lexer": "ipython3",
   "version": "3.8.8"
  }
 },
 "nbformat": 4,
 "nbformat_minor": 5
}
